{
 "cells": [
  {
   "cell_type": "markdown",
   "metadata": {},
   "source": [
    "Exemple d'anàlisi de les dades sobre l'Evolució de Preus i Consum de Tabac a Espanya obtingudes mitjançant web scraping.\n",
    "\n",
    "En primer lloc mostrarem l'evolució de preus d'una de les marques de tabac més populars, mostrant els valors i l'histograma. S'observa que els preus s'han incrementat des dels 2,20 euros de 2005 fins al 4,60 en 2017 (darrer any en que aquesta marca va variar el preu). En 2006 i 2011 va haver davallades degut a una \"guerra de preus\" en el mercat de tabac que l'Estat va tallar augmentant els impostos sobre les labors de tabac."
   ]
  },
  {
   "cell_type": "code",
   "execution_count": 10,
   "metadata": {},
   "outputs": [
    {
     "data": {
      "text/html": [
       "<div>\n",
       "<style scoped>\n",
       "    .dataframe tbody tr th:only-of-type {\n",
       "        vertical-align: middle;\n",
       "    }\n",
       "\n",
       "    .dataframe tbody tr th {\n",
       "        vertical-align: top;\n",
       "    }\n",
       "\n",
       "    .dataframe thead th {\n",
       "        text-align: right;\n",
       "    }\n",
       "</style>\n",
       "<table border=\"1\" class=\"dataframe\">\n",
       "  <thead>\n",
       "    <tr style=\"text-align: right;\">\n",
       "      <th></th>\n",
       "      <th>Marca</th>\n",
       "      <th>Fecha</th>\n",
       "      <th>Precio</th>\n",
       "    </tr>\n",
       "  </thead>\n",
       "  <tbody>\n",
       "    <tr>\n",
       "      <th>52</th>\n",
       "      <td>Fortuna Rojo Blando</td>\n",
       "      <td>20050406</td>\n",
       "      <td>2.20</td>\n",
       "    </tr>\n",
       "    <tr>\n",
       "      <th>296</th>\n",
       "      <td>Fortuna Rojo Blando</td>\n",
       "      <td>20050923</td>\n",
       "      <td>2.25</td>\n",
       "    </tr>\n",
       "    <tr>\n",
       "      <th>725</th>\n",
       "      <td>Fortuna Rojo Blando</td>\n",
       "      <td>20060125</td>\n",
       "      <td>2.50</td>\n",
       "    </tr>\n",
       "    <tr>\n",
       "      <th>810</th>\n",
       "      <td>Fortuna Rojo Blando</td>\n",
       "      <td>20060201</td>\n",
       "      <td>1.85</td>\n",
       "    </tr>\n",
       "    <tr>\n",
       "      <th>957</th>\n",
       "      <td>Fortuna Rojo Blando</td>\n",
       "      <td>20060216</td>\n",
       "      <td>2.20</td>\n",
       "    </tr>\n",
       "    <tr>\n",
       "      <th>1543</th>\n",
       "      <td>Fortuna Rojo Blando</td>\n",
       "      <td>20061230</td>\n",
       "      <td>2.40</td>\n",
       "    </tr>\n",
       "    <tr>\n",
       "      <th>1827</th>\n",
       "      <td>Fortuna Rojo Blando</td>\n",
       "      <td>20080109</td>\n",
       "      <td>2.50</td>\n",
       "    </tr>\n",
       "    <tr>\n",
       "      <th>2085</th>\n",
       "      <td>Fortuna Rojo Blando</td>\n",
       "      <td>20090114</td>\n",
       "      <td>2.65</td>\n",
       "    </tr>\n",
       "    <tr>\n",
       "      <th>2296</th>\n",
       "      <td>Fortuna Rojo Blando</td>\n",
       "      <td>20090616</td>\n",
       "      <td>3.00</td>\n",
       "    </tr>\n",
       "    <tr>\n",
       "      <th>2684</th>\n",
       "      <td>Fortuna Rojo Blando</td>\n",
       "      <td>20100119</td>\n",
       "      <td>3.15</td>\n",
       "    </tr>\n",
       "    <tr>\n",
       "      <th>2856</th>\n",
       "      <td>Fortuna Rojo Blando</td>\n",
       "      <td>20100601</td>\n",
       "      <td>3.40</td>\n",
       "    </tr>\n",
       "    <tr>\n",
       "      <th>3330</th>\n",
       "      <td>Fortuna Rojo Blando</td>\n",
       "      <td>20101208</td>\n",
       "      <td>3.75</td>\n",
       "    </tr>\n",
       "    <tr>\n",
       "      <th>3804</th>\n",
       "      <td>Fortuna Rojo Blando</td>\n",
       "      <td>20110510</td>\n",
       "      <td>3.85</td>\n",
       "    </tr>\n",
       "    <tr>\n",
       "      <th>3891</th>\n",
       "      <td>Fortuna Rojo Blando</td>\n",
       "      <td>20110520</td>\n",
       "      <td>3.70</td>\n",
       "    </tr>\n",
       "    <tr>\n",
       "      <th>4040</th>\n",
       "      <td>Fortuna Rojo Blando</td>\n",
       "      <td>20110601</td>\n",
       "      <td>3.50</td>\n",
       "    </tr>\n",
       "    <tr>\n",
       "      <th>4427</th>\n",
       "      <td>Fortuna Rojo Blando</td>\n",
       "      <td>20110702</td>\n",
       "      <td>3.70</td>\n",
       "    </tr>\n",
       "    <tr>\n",
       "      <th>4637</th>\n",
       "      <td>Fortuna Rojo Blando</td>\n",
       "      <td>20110720</td>\n",
       "      <td>3.60</td>\n",
       "    </tr>\n",
       "    <tr>\n",
       "      <th>4763</th>\n",
       "      <td>Fortuna Rojo Blando</td>\n",
       "      <td>20110910</td>\n",
       "      <td>3.85</td>\n",
       "    </tr>\n",
       "    <tr>\n",
       "      <th>5076</th>\n",
       "      <td>Fortuna Rojo Blando</td>\n",
       "      <td>20120410</td>\n",
       "      <td>4.10</td>\n",
       "    </tr>\n",
       "    <tr>\n",
       "      <th>5720</th>\n",
       "      <td>Fortuna Rojo Blando</td>\n",
       "      <td>20121229</td>\n",
       "      <td>4.30</td>\n",
       "    </tr>\n",
       "    <tr>\n",
       "      <th>6329</th>\n",
       "      <td>Fortuna Rojo Blando</td>\n",
       "      <td>20130705</td>\n",
       "      <td>4.35</td>\n",
       "    </tr>\n",
       "    <tr>\n",
       "      <th>7135</th>\n",
       "      <td>Fortuna Rojo Blando</td>\n",
       "      <td>20140702</td>\n",
       "      <td>4.40</td>\n",
       "    </tr>\n",
       "    <tr>\n",
       "      <th>7741</th>\n",
       "      <td>Fortuna Rojo Blando</td>\n",
       "      <td>20150123</td>\n",
       "      <td>4.45</td>\n",
       "    </tr>\n",
       "    <tr>\n",
       "      <th>9127</th>\n",
       "      <td>Fortuna Rojo Blando</td>\n",
       "      <td>20161228</td>\n",
       "      <td>4.55</td>\n",
       "    </tr>\n",
       "    <tr>\n",
       "      <th>9607</th>\n",
       "      <td>Fortuna Rojo Blando</td>\n",
       "      <td>20171216</td>\n",
       "      <td>4.60</td>\n",
       "    </tr>\n",
       "  </tbody>\n",
       "</table>\n",
       "</div>"
      ],
      "text/plain": [
       "                    Marca     Fecha  Precio\n",
       "52    Fortuna Rojo Blando  20050406    2.20\n",
       "296   Fortuna Rojo Blando  20050923    2.25\n",
       "725   Fortuna Rojo Blando  20060125    2.50\n",
       "810   Fortuna Rojo Blando  20060201    1.85\n",
       "957   Fortuna Rojo Blando  20060216    2.20\n",
       "1543  Fortuna Rojo Blando  20061230    2.40\n",
       "1827  Fortuna Rojo Blando  20080109    2.50\n",
       "2085  Fortuna Rojo Blando  20090114    2.65\n",
       "2296  Fortuna Rojo Blando  20090616    3.00\n",
       "2684  Fortuna Rojo Blando  20100119    3.15\n",
       "2856  Fortuna Rojo Blando  20100601    3.40\n",
       "3330  Fortuna Rojo Blando  20101208    3.75\n",
       "3804  Fortuna Rojo Blando  20110510    3.85\n",
       "3891  Fortuna Rojo Blando  20110520    3.70\n",
       "4040  Fortuna Rojo Blando  20110601    3.50\n",
       "4427  Fortuna Rojo Blando  20110702    3.70\n",
       "4637  Fortuna Rojo Blando  20110720    3.60\n",
       "4763  Fortuna Rojo Blando  20110910    3.85\n",
       "5076  Fortuna Rojo Blando  20120410    4.10\n",
       "5720  Fortuna Rojo Blando  20121229    4.30\n",
       "6329  Fortuna Rojo Blando  20130705    4.35\n",
       "7135  Fortuna Rojo Blando  20140702    4.40\n",
       "7741  Fortuna Rojo Blando  20150123    4.45\n",
       "9127  Fortuna Rojo Blando  20161228    4.55\n",
       "9607  Fortuna Rojo Blando  20171216    4.60"
      ]
     },
     "execution_count": 10,
     "metadata": {},
     "output_type": "execute_result"
    }
   ],
   "source": [
    "# Evolució dels preus d'una de les marques més populars\n",
    "import pandas as pd\n",
    "import matplotlib.pyplot as plt\n",
    "df_preus = pd.read_csv('TabacoPrecios.csv', sep=';')\n",
    "marca = 'Fortuna Rojo Blando'\n",
    "df_marca = df_preus[(df_preus.Marca==marca)]\n",
    "df_marca"
   ]
  },
  {
   "cell_type": "code",
   "execution_count": 11,
   "metadata": {},
   "outputs": [
    {
     "data": {
      "text/plain": [
       "<matplotlib.axes._subplots.AxesSubplot at 0x7fe4e3e0d898>"
      ]
     },
     "execution_count": 11,
     "metadata": {},
     "output_type": "execute_result"
    },
    {
     "data": {
      "image/png": "[encoded data removed]",
      "text/plain": [
       "<Figure size 432x288 with 1 Axes>"
      ]
     },
     "metadata": {
      "needs_background": "light"
     },
     "output_type": "display_data"
    }
   ],
   "source": [
    "df_marca.plot('Fecha', 'Precio')"
   ]
  },
  {
   "cell_type": "markdown",
   "metadata": {},
   "source": [
    "A continuació analitzem l'evolució de les vendes de cigarrets en milions de quantitat de caixes de 20 unitats. S'observa una davallada del consum indicativa de que les alçades de preu sí han tingut un impacte sobre el consum de tabac."
   ]
  },
  {
   "cell_type": "code",
   "execution_count": 13,
   "metadata": {},
   "outputs": [
    {
     "data": {
      "text/html": [
       "<div>\n",
       "<style scoped>\n",
       "    .dataframe tbody tr th:only-of-type {\n",
       "        vertical-align: middle;\n",
       "    }\n",
       "\n",
       "    .dataframe tbody tr th {\n",
       "        vertical-align: top;\n",
       "    }\n",
       "\n",
       "    .dataframe thead th {\n",
       "        text-align: right;\n",
       "    }\n",
       "</style>\n",
       "<table border=\"1\" class=\"dataframe\">\n",
       "  <thead>\n",
       "    <tr style=\"text-align: right;\">\n",
       "      <th></th>\n",
       "      <th>Anyo</th>\n",
       "      <th>Total</th>\n",
       "    </tr>\n",
       "  </thead>\n",
       "  <tbody>\n",
       "    <tr>\n",
       "      <th>0</th>\n",
       "      <td>2005</td>\n",
       "      <td>4634976813</td>\n",
       "    </tr>\n",
       "    <tr>\n",
       "      <th>1</th>\n",
       "      <td>2006</td>\n",
       "      <td>4504878823</td>\n",
       "    </tr>\n",
       "    <tr>\n",
       "      <th>2</th>\n",
       "      <td>2007</td>\n",
       "      <td>4455138244</td>\n",
       "    </tr>\n",
       "    <tr>\n",
       "      <th>3</th>\n",
       "      <td>2008</td>\n",
       "      <td>4514441345</td>\n",
       "    </tr>\n",
       "    <tr>\n",
       "      <th>4</th>\n",
       "      <td>2009</td>\n",
       "      <td>4067825486</td>\n",
       "    </tr>\n",
       "    <tr>\n",
       "      <th>5</th>\n",
       "      <td>2010</td>\n",
       "      <td>3621537558</td>\n",
       "    </tr>\n",
       "    <tr>\n",
       "      <th>6</th>\n",
       "      <td>2011</td>\n",
       "      <td>3015433434</td>\n",
       "    </tr>\n",
       "    <tr>\n",
       "      <th>7</th>\n",
       "      <td>2012</td>\n",
       "      <td>2671732721</td>\n",
       "    </tr>\n",
       "    <tr>\n",
       "      <th>8</th>\n",
       "      <td>2013</td>\n",
       "      <td>2375413218</td>\n",
       "    </tr>\n",
       "    <tr>\n",
       "      <th>9</th>\n",
       "      <td>2014</td>\n",
       "      <td>2339948159</td>\n",
       "    </tr>\n",
       "    <tr>\n",
       "      <th>10</th>\n",
       "      <td>2017</td>\n",
       "      <td>2237286395</td>\n",
       "    </tr>\n",
       "    <tr>\n",
       "      <th>11</th>\n",
       "      <td>2018</td>\n",
       "      <td>2231204727</td>\n",
       "    </tr>\n",
       "  </tbody>\n",
       "</table>\n",
       "</div>"
      ],
      "text/plain": [
       "    Anyo       Total\n",
       "0   2005  4634976813\n",
       "1   2006  4504878823\n",
       "2   2007  4455138244\n",
       "3   2008  4514441345\n",
       "4   2009  4067825486\n",
       "5   2010  3621537558\n",
       "6   2011  3015433434\n",
       "7   2012  2671732721\n",
       "8   2013  2375413218\n",
       "9   2014  2339948159\n",
       "10  2017  2237286395\n",
       "11  2018  2231204727"
      ]
     },
     "execution_count": 13,
     "metadata": {},
     "output_type": "execute_result"
    }
   ],
   "source": [
    "# Analitzem l'evolució de les vendes en unitats i preu\n",
    "df_vendes = pd.read_csv('TabacoVentas.csv', sep=';')\n",
    "\n",
    "def serie_vendes(df_vendes, labor, unitat):\n",
    "    df_series = df_vendes[(df_vendes.Unidad==unitat) & (df_vendes.Labor==labor)]\n",
    "    df_series = df_series.groupby('Anyo').sum()\n",
    "    return df_series.reset_index('Anyo').reindex(columns=['Anyo', 'Total'])\n",
    "\n",
    "df_vendes_cig = serie_vendes(df_vendes, 'CIGARRILLOS', 'cantidad')\n",
    "df_vendes_cig"
   ]
  },
  {
   "cell_type": "code",
   "execution_count": 5,
   "metadata": {},
   "outputs": [
    {
     "data": {
      "text/plain": [
       "<matplotlib.axes._subplots.AxesSubplot at 0x7fe4e3f28a90>"
      ]
     },
     "execution_count": 5,
     "metadata": {},
     "output_type": "execute_result"
    },
    {
     "data": {
      "image/png": "[encoded data removed]",
      "text/plain": [
       "<Figure size 432x288 with 1 Axes>"
      ]
     },
     "metadata": {
      "needs_background": "light"
     },
     "output_type": "display_data"
    }
   ],
   "source": [
    "df_vendes_cig.plot('Anyo', 'Total')"
   ]
  },
  {
   "cell_type": "markdown",
   "metadata": {},
   "source": [
    "Finalment analitzarem l'evolució de la recaptació en milions d'euros de les vendes de cigarrets. Observem que a pessar de la disminució del consum, la recaptació no ha baixat. Inclús en alguns anys ha augmentat fins a arribar al màxim de 1200 milions en 2010. Això es degut a les pujades de preu, la major part dels quals són impostos."
   ]
  },
  {
   "cell_type": "code",
   "execution_count": 16,
   "metadata": {},
   "outputs": [
    {
     "data": {
      "text/html": [
       "<div>\n",
       "<style scoped>\n",
       "    .dataframe tbody tr th:only-of-type {\n",
       "        vertical-align: middle;\n",
       "    }\n",
       "\n",
       "    .dataframe tbody tr th {\n",
       "        vertical-align: top;\n",
       "    }\n",
       "\n",
       "    .dataframe thead th {\n",
       "        text-align: right;\n",
       "    }\n",
       "</style>\n",
       "<table border=\"1\" class=\"dataframe\">\n",
       "  <thead>\n",
       "    <tr style=\"text-align: right;\">\n",
       "      <th></th>\n",
       "      <th>Anyo</th>\n",
       "      <th>Total</th>\n",
       "    </tr>\n",
       "  </thead>\n",
       "  <tbody>\n",
       "    <tr>\n",
       "      <th>0</th>\n",
       "      <td>2005</td>\n",
       "      <td>10243642367</td>\n",
       "    </tr>\n",
       "    <tr>\n",
       "      <th>1</th>\n",
       "      <td>2006</td>\n",
       "      <td>10153788039</td>\n",
       "    </tr>\n",
       "    <tr>\n",
       "      <th>2</th>\n",
       "      <td>2007</td>\n",
       "      <td>11147599475</td>\n",
       "    </tr>\n",
       "    <tr>\n",
       "      <th>3</th>\n",
       "      <td>2008</td>\n",
       "      <td>11671980826</td>\n",
       "    </tr>\n",
       "    <tr>\n",
       "      <th>4</th>\n",
       "      <td>2009</td>\n",
       "      <td>11719616562</td>\n",
       "    </tr>\n",
       "    <tr>\n",
       "      <th>5</th>\n",
       "      <td>2010</td>\n",
       "      <td>12061477095</td>\n",
       "    </tr>\n",
       "    <tr>\n",
       "      <th>6</th>\n",
       "      <td>2011</td>\n",
       "      <td>11339721817</td>\n",
       "    </tr>\n",
       "    <tr>\n",
       "      <th>7</th>\n",
       "      <td>2012</td>\n",
       "      <td>10799877505</td>\n",
       "    </tr>\n",
       "    <tr>\n",
       "      <th>8</th>\n",
       "      <td>2013</td>\n",
       "      <td>10217072767</td>\n",
       "    </tr>\n",
       "    <tr>\n",
       "      <th>9</th>\n",
       "      <td>2014</td>\n",
       "      <td>10236958471</td>\n",
       "    </tr>\n",
       "    <tr>\n",
       "      <th>10</th>\n",
       "      <td>2016</td>\n",
       "      <td>10311177331</td>\n",
       "    </tr>\n",
       "    <tr>\n",
       "      <th>11</th>\n",
       "      <td>2018</td>\n",
       "      <td>10166996917</td>\n",
       "    </tr>\n",
       "  </tbody>\n",
       "</table>\n",
       "</div>"
      ],
      "text/plain": [
       "    Anyo        Total\n",
       "0   2005  10243642367\n",
       "1   2006  10153788039\n",
       "2   2007  11147599475\n",
       "3   2008  11671980826\n",
       "4   2009  11719616562\n",
       "5   2010  12061477095\n",
       "6   2011  11339721817\n",
       "7   2012  10799877505\n",
       "8   2013  10217072767\n",
       "9   2014  10236958471\n",
       "10  2016  10311177331\n",
       "11  2018  10166996917"
      ]
     },
     "execution_count": 16,
     "metadata": {},
     "output_type": "execute_result"
    }
   ],
   "source": [
    "df_vendes_cig_eur = serie_vendes(df_vendes, 'CIGARRILLOS', 'euros')\n",
    "df_vendes_cig_eur"
   ]
  },
  {
   "cell_type": "code",
   "execution_count": 17,
   "metadata": {},
   "outputs": [
    {
     "data": {
      "text/plain": [
       "<matplotlib.axes._subplots.AxesSubplot at 0x7fe4e3d4b4e0>"
      ]
     },
     "execution_count": 17,
     "metadata": {},
     "output_type": "execute_result"
    },
    {
     "data": {
      "image/png": "[encoded data removed]",
      "text/plain": [
       "<Figure size 432x288 with 1 Axes>"
      ]
     },
     "metadata": {
      "needs_background": "light"
     },
     "output_type": "display_data"
    }
   ],
   "source": [
    "df_vendes_cig_eur.plot('Anyo', 'Total')"
   ]
  },
  {
   "cell_type": "code",
   "execution_count": null,
   "metadata": {},
   "outputs": [],
   "source": []
  }
 ],
 "metadata": {
  "kernelspec": {
   "display_name": "Python 3",
   "language": "python",
   "name": "python3"
  },
  "language_info": {
   "codemirror_mode": {
    "name": "ipython",
    "version": 3
   },
   "file_extension": ".py",
   "mimetype": "text/x-python",
   "name": "python",
   "nbconvert_exporter": "python",
   "pygments_lexer": "ipython3",
   "version": "3.7.3"
  }
 },
 "nbformat": 4,
 "nbformat_minor": 2
}
